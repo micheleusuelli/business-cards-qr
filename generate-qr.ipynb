{
 "cells": [
  {
   "cell_type": "code",
   "execution_count": 1,
   "metadata": {},
   "outputs": [],
   "source": [
    "# !pip install pyqrcode\n",
    "# !pip install qrcode\n",
    "# !pip install pypng\n",
    "# !pip install Pillow\n",
    "# !pip install markdown\n",
    "# !pip install markdown2\n",
    "# !pip install html2text"
   ]
  },
  {
   "cell_type": "code",
   "execution_count": 2,
   "metadata": {},
   "outputs": [],
   "source": [
    "from vcardgen import VCardGenerator"
   ]
  },
  {
   "cell_type": "code",
   "execution_count": 3,
   "metadata": {},
   "outputs": [
    {
     "name": "stdout",
     "output_type": "stream",
     "text": [
      "BEGIN:VCARD\n",
      "VERSION:3.0\n",
      "FN:Aya Meguro\n",
      "N:Meguro;Aya;;;\n",
      "ADR:;;;London, United Kingdom\n",
      "TEL:+447515377395\n",
      "EMAIL:ayameguro.88@gmail.com\n",
      "ORG:Theory\n",
      "TITLE:Sales Associate\n",
      "EMAIL;type=WORK,INTERNET:N/A\n",
      "URL:N/A\n",
      "REV:2024-04-30 00:30:32.826887\n",
      "END:VCARD\n",
      "BEGIN:VCARD\n",
      "VERSION:3.0\n",
      "FN:Michele Usuelli\n",
      "N:Usuelli;Michele;;;\n",
      "ADR:;;;London, United Kingdom\n",
      "EMAIL:michele.usuelli@gmail.com\n",
      "ORG:Microsoft\n",
      "TITLE:Principal Data Science Manager\n",
      "EMAIL;type=WORK,INTERNET:usuelli.michele@microsoft.com\n",
      "TEL:+447454194167\n",
      "URL:https://micheleusuelli.github.io/\n",
      "URL;type=LINKEDIN,INTERNET:https://www.linkedin.com/in/michele-usuelli/\n",
      "REV:2024-04-30 00:30:32.874660\n",
      "END:VCARD\n"
     ]
    }
   ],
   "source": [
    "import glob\n",
    "import json\n",
    "\n",
    "json_file_paths = glob.glob('config/data/*.json')\n",
    "\n",
    "for json_file_path in json_file_paths:\n",
    "    with open(json_file_path, 'r') as json_file:\n",
    "        input_dict = json.load(json_file)\n",
    "    vcard_generator = VCardGenerator()\n",
    "    vcard = vcard_generator.generate_vcard_from_json(input_dict)\n",
    "    file_name = json_file_path.split('/')[-1].split('.')[0] + '.png'\n",
    "    output_path = f\"qr-codes/{file_name}\"\n",
    "    img = vcard_generator.create_qr_code(vcard)\n",
    "    img.save(output_path)\n",
    "\n"
   ]
  }
 ],
 "metadata": {
  "kernelspec": {
   "display_name": "qrgen",
   "language": "python",
   "name": "python3"
  },
  "language_info": {
   "codemirror_mode": {
    "name": "ipython",
    "version": 3
   },
   "file_extension": ".py",
   "mimetype": "text/x-python",
   "name": "python",
   "nbconvert_exporter": "python",
   "pygments_lexer": "ipython3",
   "version": "3.12.3"
  }
 },
 "nbformat": 4,
 "nbformat_minor": 2
}
